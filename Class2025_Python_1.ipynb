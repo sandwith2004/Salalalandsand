{
  "nbformat": 4,
  "nbformat_minor": 0,
  "metadata": {
    "colab": {
      "provenance": []
    },
    "kernelspec": {
      "name": "python3",
      "display_name": "Python 3"
    },
    "language_info": {
      "name": "python"
    }
  },
  "cells": [
    {
      "cell_type": "code",
      "execution_count": null,
      "metadata": {
        "colab": {
          "base_uri": "https://localhost:8080/"
        },
        "id": "JWyKnM1lnGLp",
        "outputId": "0ee62380-17f1-4533-a809-75b665497929"
      },
      "outputs": [
        {
          "output_type": "execute_result",
          "data": {
            "text/plain": [
              "6"
            ]
          },
          "metadata": {},
          "execution_count": 1
        }
      ],
      "source": [
        "1+5"
      ]
    },
    {
      "cell_type": "code",
      "source": [
        "6/3"
      ],
      "metadata": {
        "colab": {
          "base_uri": "https://localhost:8080/"
        },
        "id": "YWgeYMaLnkUz",
        "outputId": "88f0fca7-350f-4378-ed33-d3a0f268d795"
      },
      "execution_count": null,
      "outputs": [
        {
          "output_type": "execute_result",
          "data": {
            "text/plain": [
              "2.0"
            ]
          },
          "metadata": {},
          "execution_count": 2
        }
      ]
    },
    {
      "cell_type": "code",
      "source": [
        "print(8*2)"
      ],
      "metadata": {
        "colab": {
          "base_uri": "https://localhost:8080/"
        },
        "id": "59vzX2uWn7dT",
        "outputId": "11a0d268-901b-4bdb-d57c-b92f671a0e40"
      },
      "execution_count": null,
      "outputs": [
        {
          "output_type": "stream",
          "name": "stdout",
          "text": [
            "16\n"
          ]
        }
      ]
    },
    {
      "cell_type": "code",
      "source": [
        "print(\"hello world\")"
      ],
      "metadata": {
        "colab": {
          "base_uri": "https://localhost:8080/"
        },
        "id": "Lb8Qx_1Kn_V4",
        "outputId": "386d8ba5-c01b-4883-fbf1-d7c592a433b3"
      },
      "execution_count": null,
      "outputs": [
        {
          "output_type": "stream",
          "name": "stdout",
          "text": [
            "hello world\n"
          ]
        }
      ]
    },
    {
      "cell_type": "code",
      "source": [
        "earnings = 3\n",
        "price = 12\n",
        "pre_ratio = price / earnings\n",
        "print(pre_ratio)"
      ],
      "metadata": {
        "colab": {
          "base_uri": "https://localhost:8080/"
        },
        "id": "FFxzi_GPoEkj",
        "outputId": "b0b43c0e-ae7f-49d0-f813-5e8737233db9"
      },
      "execution_count": null,
      "outputs": [
        {
          "output_type": "stream",
          "name": "stdout",
          "text": [
            "4.0\n"
          ]
        }
      ]
    },
    {
      "cell_type": "code",
      "source": [
        "print(earnings)"
      ],
      "metadata": {
        "colab": {
          "base_uri": "https://localhost:8080/"
        },
        "id": "lSbpY95VoR1h",
        "outputId": "99a1aeb8-7bf2-466c-de1c-69cd2ef91091"
      },
      "execution_count": null,
      "outputs": [
        {
          "output_type": "stream",
          "name": "stdout",
          "text": [
            "3\n"
          ]
        }
      ]
    },
    {
      "cell_type": "code",
      "source": [
        "1==1"
      ],
      "metadata": {
        "colab": {
          "base_uri": "https://localhost:8080/"
        },
        "id": "OJRKev9uodkO",
        "outputId": "e08097e0-bf41-4b5f-d6ed-d8b8f40d9ef7"
      },
      "execution_count": null,
      "outputs": [
        {
          "output_type": "execute_result",
          "data": {
            "text/plain": [
              "True"
            ]
          },
          "metadata": {},
          "execution_count": 9
        }
      ]
    },
    {
      "cell_type": "code",
      "source": [
        "months = ['Jan','Feb','Mar','Apr','May','Jun','Jul','Aug','Sep','Oct','Nov','Dec']"
      ],
      "metadata": {
        "id": "cs8PDigVo9mh"
      },
      "execution_count": null,
      "outputs": []
    },
    {
      "cell_type": "code",
      "source": [
        "months[1]"
      ],
      "metadata": {
        "colab": {
          "base_uri": "https://localhost:8080/",
          "height": 36
        },
        "id": "v2LDB5iPpEVv",
        "outputId": "33542387-87ef-41ae-fe56-867ad7adc1c3"
      },
      "execution_count": null,
      "outputs": [
        {
          "output_type": "execute_result",
          "data": {
            "text/plain": [
              "'Feb'"
            ],
            "application/vnd.google.colaboratory.intrinsic+json": {
              "type": "string"
            }
          },
          "metadata": {},
          "execution_count": 11
        }
      ]
    },
    {
      "cell_type": "code",
      "source": [
        "months[-1]"
      ],
      "metadata": {
        "colab": {
          "base_uri": "https://localhost:8080/",
          "height": 36
        },
        "id": "67aSr3dApPeH",
        "outputId": "88693d1d-a7e7-40de-b3cc-e6b8d95963e6"
      },
      "execution_count": null,
      "outputs": [
        {
          "output_type": "execute_result",
          "data": {
            "text/plain": [
              "'Dec'"
            ],
            "application/vnd.google.colaboratory.intrinsic+json": {
              "type": "string"
            }
          },
          "metadata": {},
          "execution_count": 12
        }
      ]
    },
    {
      "cell_type": "code",
      "source": [
        "months"
      ],
      "metadata": {
        "colab": {
          "base_uri": "https://localhost:8080/"
        },
        "id": "uGdtYlBgpb73",
        "outputId": "50b341fc-f5e7-4ecf-d7a4-595d735c7b4e"
      },
      "execution_count": null,
      "outputs": [
        {
          "output_type": "execute_result",
          "data": {
            "text/plain": [
              "['Jan',\n",
              " 'Feb',\n",
              " 'Mar',\n",
              " 'Apr',\n",
              " 'May',\n",
              " 'Jun',\n",
              " 'Jul',\n",
              " 'Aug',\n",
              " 'Sep',\n",
              " 'Oct',\n",
              " 'Nov',\n",
              " 'Dec']"
            ]
          },
          "metadata": {},
          "execution_count": 13
        }
      ]
    },
    {
      "cell_type": "code",
      "source": [
        "# print JUne\n",
        "\n",
        "months[5]"
      ],
      "metadata": {
        "colab": {
          "base_uri": "https://localhost:8080/",
          "height": 36
        },
        "id": "RVYn3gUuphSs",
        "outputId": "7aee4c14-2e79-4fd3-cd00-a96d361dc07f"
      },
      "execution_count": null,
      "outputs": [
        {
          "output_type": "execute_result",
          "data": {
            "text/plain": [
              "'Jun'"
            ],
            "application/vnd.google.colaboratory.intrinsic+json": {
              "type": "string"
            }
          },
          "metadata": {},
          "execution_count": 14
        }
      ]
    },
    {
      "cell_type": "code",
      "source": [
        "months[2:5]"
      ],
      "metadata": {
        "colab": {
          "base_uri": "https://localhost:8080/"
        },
        "id": "1r3h7NBEpp_W",
        "outputId": "898102de-a806-4753-d404-043bc8220052"
      },
      "execution_count": null,
      "outputs": [
        {
          "output_type": "execute_result",
          "data": {
            "text/plain": [
              "['Mar', 'Apr', 'May']"
            ]
          },
          "metadata": {},
          "execution_count": 15
        }
      ]
    },
    {
      "cell_type": "code",
      "source": [
        "import numpy as np"
      ],
      "metadata": {
        "id": "E-NnWj8dp0Zf"
      },
      "execution_count": null,
      "outputs": []
    },
    {
      "cell_type": "code",
      "source": [
        "A=[10,5,2,1,4,12]"
      ],
      "metadata": {
        "id": "6eQbDkv9p7aH"
      },
      "execution_count": null,
      "outputs": []
    },
    {
      "cell_type": "code",
      "source": [
        "np.median(A)"
      ],
      "metadata": {
        "colab": {
          "base_uri": "https://localhost:8080/"
        },
        "id": "neUVvCApqJ4q",
        "outputId": "ba90decb-d5b9-4216-c679-7101981039e7"
      },
      "execution_count": null,
      "outputs": [
        {
          "output_type": "execute_result",
          "data": {
            "text/plain": [
              "np.float64(4.5)"
            ]
          },
          "metadata": {},
          "execution_count": 18
        }
      ]
    },
    {
      "cell_type": "code",
      "source": [
        "np.mean(A)"
      ],
      "metadata": {
        "colab": {
          "base_uri": "https://localhost:8080/"
        },
        "id": "JNyL86vnqUFH",
        "outputId": "9a190f03-a5e0-48db-9906-f875d7b98a03"
      },
      "execution_count": null,
      "outputs": [
        {
          "output_type": "execute_result",
          "data": {
            "text/plain": [
              "np.float64(5.666666666666667)"
            ]
          },
          "metadata": {},
          "execution_count": 19
        }
      ]
    },
    {
      "cell_type": "code",
      "source": [
        "# Try to Create array using NumPy for list\n",
        "a = [37,40,20,50,32]\n",
        "b = [98,53,30,85,69]"
      ],
      "metadata": {
        "id": "ahjNU5mhqghX"
      },
      "execution_count": null,
      "outputs": []
    },
    {
      "cell_type": "code",
      "source": [
        "print(a+b)"
      ],
      "metadata": {
        "colab": {
          "base_uri": "https://localhost:8080/"
        },
        "id": "1DEL7UE5qqL8",
        "outputId": "ec8354a7-d18f-40d3-d145-2a5f20f6afd8"
      },
      "execution_count": null,
      "outputs": [
        {
          "output_type": "stream",
          "name": "stdout",
          "text": [
            "[37, 40, 20, 50, 32, 98, 53, 30, 85, 69]\n"
          ]
        }
      ]
    },
    {
      "cell_type": "code",
      "source": [
        "a_arr= np.array(a)\n",
        "b_arr= np.array(b)"
      ],
      "metadata": {
        "id": "AdI6Eq6Oq0fJ"
      },
      "execution_count": null,
      "outputs": []
    },
    {
      "cell_type": "code",
      "source": [
        "print(a_arr+b_arr)"
      ],
      "metadata": {
        "colab": {
          "base_uri": "https://localhost:8080/"
        },
        "id": "dF7D-FDurCR9",
        "outputId": "048a01f2-ddf7-4be6-8514-4e177534f264"
      },
      "execution_count": null,
      "outputs": [
        {
          "output_type": "stream",
          "name": "stdout",
          "text": [
            "[135  93  50 135 101]\n"
          ]
        }
      ]
    },
    {
      "cell_type": "code",
      "source": [
        "print(a_arr)\n",
        "print(a_arr + 10)"
      ],
      "metadata": {
        "colab": {
          "base_uri": "https://localhost:8080/"
        },
        "id": "ZrsbCvfBrNyk",
        "outputId": "a1befe86-305b-4fb7-e8ac-8a686571989c"
      },
      "execution_count": null,
      "outputs": [
        {
          "output_type": "stream",
          "name": "stdout",
          "text": [
            "[37 40 20 50 32]\n",
            "[47 50 30 60 42]\n"
          ]
        }
      ]
    },
    {
      "cell_type": "code",
      "source": [
        "# Example : ABC Company has reported monthly revenue and cost as below:\n",
        "revenue = [123, 5, 33, 10, 12, 20, 40, 1.2, 9.9, 0.5, 11.11, 999]\n",
        "cost = [10, 15, 100, 10, 5, 2, 13.1, 10, 99, 0, 3.2, 555]"
      ],
      "metadata": {
        "id": "c9zyr_s9rXxh"
      },
      "execution_count": null,
      "outputs": []
    },
    {
      "cell_type": "code",
      "source": [
        "rev = np.array(revenue)\n",
        "cs = np.array(cost)\n",
        "profit = rev - cs\n",
        "print(profit)"
      ],
      "metadata": {
        "colab": {
          "base_uri": "https://localhost:8080/"
        },
        "id": "ka8poA0zr0eS",
        "outputId": "f42080b3-2ac8-410a-844a-d724a8a917fb"
      },
      "execution_count": null,
      "outputs": [
        {
          "output_type": "stream",
          "name": "stdout",
          "text": [
            "[113.   -10.   -67.     0.     7.    18.    26.9   -8.8  -89.1    0.5\n",
            "   7.91 444.  ]\n"
          ]
        }
      ]
    },
    {
      "cell_type": "code",
      "source": [
        "# Calculate Total revenue, Total cost and Total profit of the company\n",
        "# Hint : Using np.sum()\n",
        "Total_revenue = np.sum(rev)\n",
        "Total_cost = np.sum(cs)\n",
        "Total_profit = np.sum(profit)\n"
      ],
      "metadata": {
        "id": "Ox8eecOSr_sK"
      },
      "execution_count": null,
      "outputs": []
    },
    {
      "cell_type": "code",
      "source": [
        "print(Total_revenue)\n",
        "print(Total_cost)\n",
        "print(Total_profit)"
      ],
      "metadata": {
        "colab": {
          "base_uri": "https://localhost:8080/"
        },
        "id": "CkJI3AkHsFhc",
        "outputId": "1d06c27d-8e3f-4dc2-d2cb-3f61b264ef1f"
      },
      "execution_count": null,
      "outputs": [
        {
          "output_type": "stream",
          "name": "stdout",
          "text": [
            "1264.71\n",
            "822.3\n",
            "442.41\n"
          ]
        }
      ]
    },
    {
      "cell_type": "code",
      "source": [
        "# Calculating Average, Median and Standart Deviation of the revenue\n",
        "print(np.mean(rev))\n",
        "print(np.median(rev))\n",
        "print(np.std(rev))"
      ],
      "metadata": {
        "colab": {
          "base_uri": "https://localhost:8080/"
        },
        "id": "TsdW3sI8sIMU",
        "outputId": "d09aa082-bcd0-472c-a2c6-6b83477f868f"
      },
      "execution_count": null,
      "outputs": [
        {
          "output_type": "stream",
          "name": "stdout",
          "text": [
            "105.3925\n",
            "11.555\n",
            "271.32701417063134\n"
          ]
        }
      ]
    },
    {
      "cell_type": "code",
      "source": [
        "!pip install numpy_financial"
      ],
      "metadata": {
        "colab": {
          "base_uri": "https://localhost:8080/"
        },
        "id": "lZj6i3a4smmf",
        "outputId": "273bfb29-4928-4212-ed08-4f2c850fb1db"
      },
      "execution_count": null,
      "outputs": [
        {
          "output_type": "stream",
          "name": "stdout",
          "text": [
            "Collecting numpy_financial\n",
            "  Downloading numpy_financial-1.0.0-py3-none-any.whl.metadata (2.2 kB)\n",
            "Requirement already satisfied: numpy>=1.15 in /usr/local/lib/python3.11/dist-packages (from numpy_financial) (2.0.2)\n",
            "Downloading numpy_financial-1.0.0-py3-none-any.whl (14 kB)\n",
            "Installing collected packages: numpy_financial\n",
            "Successfully installed numpy_financial-1.0.0\n"
          ]
        }
      ]
    },
    {
      "cell_type": "code",
      "source": [
        "import numpy_financial as npf"
      ],
      "metadata": {
        "id": "Q7CAHSw8sRM0"
      },
      "execution_count": null,
      "outputs": []
    },
    {
      "cell_type": "code",
      "source": [
        "# 10-year bond 5% with YTM 3%, pls compute price of this bond\n",
        "\n",
        "rate = 0.03\n",
        "nper = 10\n",
        "pmt = 50\n",
        "fv = 1000\n",
        "print(round(npf.pv(rate=rate,nper=nper,pmt=pmt,fv=fv),2))"
      ],
      "metadata": {
        "colab": {
          "base_uri": "https://localhost:8080/"
        },
        "id": "WeHta5RRshY9",
        "outputId": "b9787fe4-113d-460a-f200-53c57497f2ca"
      },
      "execution_count": null,
      "outputs": [
        {
          "output_type": "stream",
          "name": "stdout",
          "text": [
            "-1170.6\n"
          ]
        }
      ]
    },
    {
      "cell_type": "code",
      "source": [
        "cash_flow = np.array([-250000, 100000, 150000, 200000, 250000, 300000])"
      ],
      "metadata": {
        "id": "aTwyUWpxtfbd"
      },
      "execution_count": null,
      "outputs": []
    },
    {
      "cell_type": "code",
      "source": [
        "print(round(npf.npv(rate=rate,values=cash_flow),2))"
      ],
      "metadata": {
        "colab": {
          "base_uri": "https://localhost:8080/"
        },
        "id": "b2bKGU22tyUN",
        "outputId": "5ca72c88-ecf6-4160-c159-f8395a7fb47d"
      },
      "execution_count": null,
      "outputs": [
        {
          "output_type": "stream",
          "name": "stdout",
          "text": [
            "652409.49\n"
          ]
        }
      ]
    },
    {
      "cell_type": "code",
      "source": [],
      "metadata": {
        "id": "UhxlXMrZt611"
      },
      "execution_count": null,
      "outputs": []
    }
  ]
}